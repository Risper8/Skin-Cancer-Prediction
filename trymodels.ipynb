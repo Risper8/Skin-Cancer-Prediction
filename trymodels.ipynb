{
 "cells": [
  {
   "cell_type": "markdown",
   "id": "fc607a26-37c4-489e-be4f-97502bf116b5",
   "metadata": {},
   "source": [
    "## severity of melanoma"
   ]
  },
  {
   "cell_type": "code",
   "execution_count": 3,
   "id": "11646e8d-4c7a-43f5-92ea-7df0e241aa80",
   "metadata": {},
   "outputs": [],
   "source": [
    "import tensorflow as tf\n",
    "import numpy as np\n",
    "from PIL import Image\n",
    "from tensorflow.keras import models, layers\n",
    "from tensorflow.keras.preprocessing import image"
   ]
  },
  {
   "cell_type": "code",
   "execution_count": 2,
   "id": "ba2482f7-7a89-4abc-8798-e56305311fbd",
   "metadata": {},
   "outputs": [],
   "source": [
    "class_names=[\"benign\", \"malignant\"]"
   ]
  },
  {
   "cell_type": "code",
   "execution_count": 3,
   "id": "62c7c57e-8c56-4124-b152-194504be7f66",
   "metadata": {},
   "outputs": [],
   "source": [
    "model1 = tf.keras.models.load_model('severe_cancer_model2.keras')"
   ]
  },
  {
   "cell_type": "code",
   "execution_count": 4,
   "id": "fe934292-fe74-4653-b4de-a9eb7cf84e56",
   "metadata": {},
   "outputs": [],
   "source": [
    "from tensorflow.keras.applications.resnet50 import preprocess_input\n",
    "def load_and_preprocess_image(img_path, target_size=(224, 224)):\n",
    "    img = image.load_img(img_path, target_size=target_size)\n",
    "    img_array = image.img_to_array(img)\n",
    "    img_array = np.expand_dims(img_array, axis=0)\n",
    "    img_array = preprocess_input(img_array)  \n",
    "    return img_array\n",
    "\n",
    "def predict_image(model, img_path):\n",
    "    img_array = load_and_preprocess_image(img_path)\n",
    "    predictions = model1.predict(img_array)\n",
    "    predicted_class = np.argmax(predictions, axis=1)\n",
    "    confidence = np.max(predictions, axis=1)\n",
    "    return predicted_class, confidence\n"
   ]
  },
  {
   "cell_type": "code",
   "execution_count": 6,
   "id": "f4faab83-4f99-488e-8141-0b56c1bba0d6",
   "metadata": {},
   "outputs": [
    {
     "name": "stdout",
     "output_type": "stream",
     "text": [
      "\u001b[1m1/1\u001b[0m \u001b[32m━━━━━━━━━━━━━━━━━━━━\u001b[0m\u001b[37m\u001b[0m \u001b[1m2s\u001b[0m 2s/step\n",
      "Predicted Class: malignant\n",
      "Confidence: [0.91084355]\n"
     ]
    }
   ],
   "source": [
    "# malignant\n",
    "img_path1 = 'sample images/1242.jpg'\n",
    "predicted_class, confidence = predict_image(model1, img_path1)\n",
    "print(f'Predicted Class: {class_names[predicted_class[0]]}')\n",
    "print(f'Confidence: {confidence}')\n"
   ]
  },
  {
   "cell_type": "code",
   "execution_count": 8,
   "id": "6b0e4f1b-8de8-4d73-bf3c-21763a30a3a8",
   "metadata": {},
   "outputs": [
    {
     "name": "stdout",
     "output_type": "stream",
     "text": [
      "\u001b[1m1/1\u001b[0m \u001b[32m━━━━━━━━━━━━━━━━━━━━\u001b[0m\u001b[37m\u001b[0m \u001b[1m1s\u001b[0m 1s/step\n",
      "Predicted Class: benign\n",
      "Confidence: [0.840582]\n"
     ]
    }
   ],
   "source": [
    "#benign\n",
    "img_path2 = 'sample images/1110.jpg'\n",
    "predicted_class, confidence = predict_image(model1, img_path2)\n",
    "print(f'Predicted Class: {class_names[predicted_class[0]]}')\n",
    "print(f'Confidence: {confidence}')"
   ]
  },
  {
   "cell_type": "markdown",
   "id": "85bf4fc6-e618-48ca-8e03-c89759a04fb3",
   "metadata": {},
   "source": [
    "## skin cancer type (cancerous and non-cancerous)"
   ]
  },
  {
   "cell_type": "code",
   "execution_count": 1,
   "id": "0ae2870a-20ab-4713-aef7-c08c52f960aa",
   "metadata": {},
   "outputs": [],
   "source": [
    "from tensorflow.keras.applications.efficientnet import preprocess_input"
   ]
  },
  {
   "cell_type": "code",
   "execution_count": 4,
   "id": "293c4ecf-64d2-416a-843d-96a004abf3f8",
   "metadata": {},
   "outputs": [],
   "source": [
    "model2=tf.keras.models.load_model('skin_lesion_model.keras')"
   ]
  },
  {
   "cell_type": "code",
   "execution_count": 5,
   "id": "85138168-c502-4b54-8530-33741dd5ef35",
   "metadata": {},
   "outputs": [],
   "source": [
    "class_names1=['Acitinic Keratosis',\n",
    " 'Basal Cell Carcinoma',\n",
    " 'Dermatofibroma',\n",
    " 'Melanoma',\n",
    " 'Nevus',\n",
    " 'Pigmented Benign Keratosis',\n",
    " 'Seborrheic Keratosis',\n",
    " 'Squamous Cell Carcinoma',\n",
    " 'Vascular Lesion']"
   ]
  },
  {
   "cell_type": "code",
   "execution_count": 11,
   "id": "1e7bd9d0-5c1e-4c07-bfee-34553e3ebf1e",
   "metadata": {},
   "outputs": [],
   "source": [
    "def load_and_preprocess_image(img_path, target_size=(224, 224)):\n",
    "    img = image.load_img(img_path, target_size=target_size)\n",
    "    img_array = image.img_to_array(img)\n",
    "    img_array = np.expand_dims(img_array, axis=0)\n",
    "    img_array = preprocess_input(img_array)  \n",
    "    return img_array\n",
    "\n",
    "def predict_image(model, img_path):\n",
    "    img_array = load_and_preprocess_image(img_path)\n",
    "    predictions = model.predict(img_array)\n",
    "    predicted_class = np.argmax(predictions, axis=1)\n",
    "    confidence = np.max(predictions, axis=1)\n",
    "    return predicted_class, confidence"
   ]
  },
  {
   "cell_type": "code",
   "execution_count": 14,
   "id": "0fbea701-cb75-4053-b95c-7a608a129c36",
   "metadata": {},
   "outputs": [
    {
     "name": "stdout",
     "output_type": "stream",
     "text": [
      "\u001b[1m1/1\u001b[0m \u001b[32m━━━━━━━━━━━━━━━━━━━━\u001b[0m\u001b[37m\u001b[0m \u001b[1m0s\u001b[0m 125ms/step\n",
      "Predicted Class: Vascular Lesion\n",
      "Confidence: [0.9999721]\n"
     ]
    }
   ],
   "source": [
    "img_path1 = 'sample images/ISIC_vascular lesion.jpg'\n",
    "predicted_class, confidence = predict_image(model2, img_path1)\n",
    "print(f'Predicted Class: {class_names1[predicted_class[0]]}')\n",
    "print(f'Confidence: {confidence}')"
   ]
  },
  {
   "cell_type": "code",
   "execution_count": 22,
   "id": "bfc3b501-3049-4166-8106-6fb1f4366c61",
   "metadata": {},
   "outputs": [
    {
     "name": "stdout",
     "output_type": "stream",
     "text": [
      "\u001b[1m1/1\u001b[0m \u001b[32m━━━━━━━━━━━━━━━━━━━━\u001b[0m\u001b[37m\u001b[0m \u001b[1m0s\u001b[0m 124ms/step\n",
      "Predicted Class: Melanoma\n",
      "Confidence: [0.9367578]\n"
     ]
    }
   ],
   "source": [
    "img_path2 = 'sample images/melanoma(1).jpg' \n",
    "predicted_class, confidence = predict_image(model2, img_path2)\n",
    "print(f'Predicted Class: {class_names1[predicted_class[0]]}')\n",
    "print(f'Confidence: {confidence}')"
   ]
  },
  {
   "cell_type": "code",
   "execution_count": 23,
   "id": "8ef06ea9-51fb-4bce-8da1-2b3f4d60af8b",
   "metadata": {},
   "outputs": [
    {
     "name": "stdout",
     "output_type": "stream",
     "text": [
      "\u001b[1m1/1\u001b[0m \u001b[32m━━━━━━━━━━━━━━━━━━━━\u001b[0m\u001b[37m\u001b[0m \u001b[1m0s\u001b[0m 140ms/step\n",
      "Predicted Class: Basal Cell Carcinoma\n",
      "Confidence: [0.5613997]\n"
     ]
    }
   ],
   "source": [
    "img_path3 = 'sample images/ISIC_dermatofibroma.jpg' \n",
    "predicted_class, confidence = predict_image(model2, img_path3)\n",
    "print(f'Predicted Class: {class_names1[predicted_class[0]]}')\n",
    "print(f'Confidence: {confidence}')"
   ]
  },
  {
   "cell_type": "code",
   "execution_count": null,
   "id": "aa3f238b-cc8b-4da5-babc-2a2f8a13eb20",
   "metadata": {},
   "outputs": [],
   "source": []
  }
 ],
 "metadata": {
  "kernelspec": {
   "display_name": "Python 3 (ipykernel)",
   "language": "python",
   "name": "python3"
  },
  "language_info": {
   "codemirror_mode": {
    "name": "ipython",
    "version": 3
   },
   "file_extension": ".py",
   "mimetype": "text/x-python",
   "name": "python",
   "nbconvert_exporter": "python",
   "pygments_lexer": "ipython3",
   "version": "3.12.2"
  }
 },
 "nbformat": 4,
 "nbformat_minor": 5
}
